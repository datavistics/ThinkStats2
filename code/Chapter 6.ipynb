{
 "cells": [
  {
   "cell_type": "markdown",
   "metadata": {},
   "source": [
    "# Review\n",
    "This chapter covers Probability Density Functions (PDFs). PDFs are simply the derivative of CDFs. One big difference between PDFs and PMFs are that PDFs are continuous where PMFs are discrete. Further there is little use in evaluating a PDF at a point. It will return a probability density. Its better to integrate over a region to return a probability.\n",
    "\n",
    "This is a great flow chart that shows how each of the distribution/mass functions play together.\n",
    "![A framework that relates representations of distribution functions](http://greenteapress.com/thinkstats2/html/thinkstats2026.png)\n",
    "\n",
    "The author then describes the implementation of these distribution/mass functions. Fundamentally they are operations wrapped around a core dictionary. This makes sense as a dictionary is able to hold the counts or probabilities per value very well.\n",
    "\n",
    "## Moments\n",
    "Moments are a good way to understand why certain statistics are the way they are. The kth **raw moment** is represented by summing up each sample raised to the power k summed and divided by the total.\n",
    "$$m'_k = \\frac{1}{n}\\sum_ix_i^k$$\n",
    "\n",
    "The author points out that these are typically only useful for k=1 which is equivalent to the mean.\n",
    "\n",
    "**Central moments** are quite a bit more useful.\n",
    "$$m_k = \\frac{1}{n}\\sum_i(x_i-\\bar{x})^k$$\n",
    "When k = 2 we get the variance. When k = 3 we get the skewness. Unfortunately skewness can get quite distorted with outliers. This is intuitive with a cubic function. There are better methods.\n",
    "\n",
    "**Pearson's median skewness coefficient** is a measure of skewness based on the difference between the sample mean and the median.\n",
    "$$g_p=3(\\bar{x} - m)/S$$\n",
    "This is considered a **robust** statistic which means that it is less vulnerable to the effect of outliers."
   ]
  },
  {
   "cell_type": "markdown",
   "metadata": {},
   "source": [
    "# Exercises\n",
    "## Exercise 1\n",
    "The exercises are all contained in [chap06ex.ipynb](chap06ex.ipynb)"
   ]
  }
 ],
 "metadata": {
  "kernelspec": {
   "display_name": "Python 3",
   "language": "python",
   "name": "python3"
  },
  "language_info": {
   "codemirror_mode": {
    "name": "ipython",
    "version": 3
   },
   "file_extension": ".py",
   "mimetype": "text/x-python",
   "name": "python",
   "nbconvert_exporter": "python",
   "pygments_lexer": "ipython3",
   "version": "3.6.2"
  },
  "varInspector": {
   "cols": {
    "lenName": 16,
    "lenType": 16,
    "lenVar": 40
   },
   "kernels_config": {
    "python": {
     "delete_cmd_postfix": "",
     "delete_cmd_prefix": "del ",
     "library": "var_list.py",
     "varRefreshCmd": "print(var_dic_list())"
    },
    "r": {
     "delete_cmd_postfix": ") ",
     "delete_cmd_prefix": "rm(",
     "library": "var_list.r",
     "varRefreshCmd": "cat(var_dic_list()) "
    }
   },
   "types_to_exclude": [
    "module",
    "function",
    "builtin_function_or_method",
    "instance",
    "_Feature"
   ],
   "window_display": false
  }
 },
 "nbformat": 4,
 "nbformat_minor": 2
}
