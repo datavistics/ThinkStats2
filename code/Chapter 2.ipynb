{
 "cells": [
  {
   "cell_type": "markdown",
   "metadata": {},
   "source": [
    "# Review\n",
    "The content was pretty simple, it went over histograms and their utility. The author did a great job walking through how they show the distribution of a pregnancy data set and with analyzing the claim that: *First babies tend to arrive late*\n",
    "\n",
    "I have a couple takeaways:\n",
    "1. **Effect Size** is a summary statistic intended to describe teh size of an effect. Particularly Cohen's *d* statistic is a way to compare the difference between groups to thier variability. Here are more [Effect Size Statistics]( https://en.wikipedia.org/wiki/Effect_size)\n",
    "2. Here are some characteristics we might want to look at when performing EDA with a histogram:\n",
    "    1. **central tendency**: Do the values tend to cluster around a particular point?\n",
    "    2. **mode**: Is there more than one cluster?\n",
    "    3. **spread**: How much variability is there in the values?\n",
    "    4. **tails**: How quickly do the probabilities drop off as we move away from the modes?\n",
    "    5. **outliers**: Are there extreme values far from the modes?"
   ]
  },
  {
   "cell_type": "markdown",
   "metadata": {},
   "source": [
    "# Excercises"
   ]
  },
  {
   "cell_type": "markdown",
   "metadata": {},
   "source": [
    "## Exercise 1\n",
    "Based on the results in this chapter, suppose you were asked to summarize what you learned about whether first babies arrive late.\n",
    "1. Which summary statistics would you use if you wanted to get a story on the evening news? \n",
    "2. Which ones would you use if you wanted to reassure an anxious patient?"
   ]
  },
  {
   "cell_type": "markdown",
   "metadata": {},
   "source": [
    "### Part 1"
   ]
  },
  {
   "cell_type": "markdown",
   "metadata": {},
   "source": [
    "If I was going to get on the evening news it would be important to make sure the my claim had as much shock value as possible! In section 2.6 we saw a relatively large disparity between first and other in the 39th week, which is of course the expected pregnancy length.\n",
    "\n",
    "Let's grab some data so see what we can sensationalize."
   ]
  },
  {
   "cell_type": "code",
   "execution_count": 1,
   "metadata": {
    "collapsed": true
   },
   "outputs": [],
   "source": [
    "import nsfg\n",
    "preg = nsfg.ReadFemPreg()\n",
    "live = preg[preg.outcome == 1]\n",
    "firsts = live[live.birthord == 1]\n",
    "others = live[live.birthord != 1]"
   ]
  },
  {
   "cell_type": "code",
   "execution_count": 2,
   "metadata": {},
   "outputs": [
    {
     "name": "stdout",
     "output_type": "stream",
     "text": [
      "Percentage of first births at 39 weeks: 0.479039202357\n",
      "Percentage of later births at 39 weeks: 0.544667370644\n"
     ]
    }
   ],
   "source": [
    "print('Percentage of first births at 39 weeks:',\n",
    "      sum(firsts.prglngth == 39) / len(firsts.index))\n",
    "print('Percentage of later births at 39 weeks:',\n",
    "      sum(others.prglngth == 39) / len(others.index))"
   ]
  },
  {
   "cell_type": "markdown",
   "metadata": {},
   "source": [
    "We could say that there are far more extreme values for later births than for first births!"
   ]
  },
  {
   "cell_type": "markdown",
   "metadata": {},
   "source": [
    "### Part 2\n",
    "\n",
    "To reassure a patient I think the effect size - *Cohen's d* which is very small shows that there is no reason to worry about a first baby relative to the later ones.\n",
    "$$d = .029$$"
   ]
  },
  {
   "cell_type": "markdown",
   "metadata": {},
   "source": [
    "## Exercise 2\n",
    "\n",
    "This is accomplished here in [chap02ex](chap02ex.ipynb)"
   ]
  },
  {
   "cell_type": "markdown",
   "metadata": {},
   "source": [
    "## Exercise 3\n",
    "The mode of a distribution is the most frequent value; see http://wikipedia.org/wiki/Mode_(statistics). Write a function called Mode that takes a Hist and returns the most frequent value.\n",
    "As a more challenging exercise, write a function called AllModes that returns a list of value-frequency pairs in descending order of frequency."
   ]
  },
  {
   "cell_type": "code",
   "execution_count": 3,
   "metadata": {
    "collapsed": true
   },
   "outputs": [],
   "source": [
    "def AllMode(hist):\n",
    "    hist_sort = sorted(hist.d.items(), key=lambda x: x[1], reverse=True)\n",
    "    return hist_sort\n",
    "\n",
    "\n",
    "def Mode(hist):\n",
    "    return AllMode(hist)[0][0]"
   ]
  },
  {
   "cell_type": "code",
   "execution_count": 4,
   "metadata": {},
   "outputs": [
    {
     "name": "stdout",
     "output_type": "stream",
     "text": [
      "[(2, 2), (1, 1), (3, 1), (5, 1)]\n",
      "2\n"
     ]
    }
   ],
   "source": [
    "import thinkstats2\n",
    "hist = thinkstats2.Hist([1, 2, 2, 3, 5])\n",
    "print(AllMode(hist))\n",
    "print(Mode(hist))"
   ]
  },
  {
   "cell_type": "markdown",
   "metadata": {},
   "source": [
    "## Exercise 4\n",
    "Using the variable `totalwgt_lb`, investigate whether first babies are lighter or heavier than others. Compute *Cohen’s d* to quantify the difference between the groups. How does it compare to the difference in pregnancy length?"
   ]
  },
  {
   "cell_type": "code",
   "execution_count": 10,
   "metadata": {},
   "outputs": [
    {
     "data": {
      "image/png": "[encoded data removed]",
      "text/plain": [
       "<matplotlib.figure.Figure at 0x175ba923c88>"
      ]
     },
     "metadata": {},
     "output_type": "display_data"
    }
   ],
   "source": [
    "tw_firsts_hist = thinkstats2.Hist(firsts.totalwgt_lb)\n",
    "tw_others_hist = thinkstats2.Hist(others.totalwgt_lb)\n",
    "\n",
    "import thinkplot\n",
    "thinkplot.Hist(tw_firsts_hist)\n",
    "thinkplot.Hist(tw_others_hist)\n",
    "import matplotlib.pyplot as plt\n",
    "plt.show()"
   ]
  }
 ],
 "metadata": {
  "kernelspec": {
   "display_name": "Python 3",
   "language": "python",
   "name": "python3"
  },
  "language_info": {
   "codemirror_mode": {
    "name": "ipython",
    "version": 3
   },
   "file_extension": ".py",
   "mimetype": "text/x-python",
   "name": "python",
   "nbconvert_exporter": "python",
   "pygments_lexer": "ipython3",
   "version": "3.6.2"
  },
  "varInspector": {
   "cols": {
    "lenName": 16,
    "lenType": 16,
    "lenVar": 40
   },
   "kernels_config": {
    "python": {
     "delete_cmd_postfix": "",
     "delete_cmd_prefix": "del ",
     "library": "var_list.py",
     "varRefreshCmd": "print(var_dic_list())"
    },
    "r": {
     "delete_cmd_postfix": ") ",
     "delete_cmd_prefix": "rm(",
     "library": "var_list.r",
     "varRefreshCmd": "cat(var_dic_list()) "
    }
   },
   "types_to_exclude": [
    "module",
    "function",
    "builtin_function_or_method",
    "instance",
    "_Feature"
   ],
   "window_display": false
  }
 },
 "nbformat": 4,
 "nbformat_minor": 2
}
