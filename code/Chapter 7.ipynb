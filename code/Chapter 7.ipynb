{
 "cells": [
  {
   "cell_type": "markdown",
   "metadata": {},
   "source": [
    "# Review\n",
    "This chapter seems to be pretty common knowledge among technical folks, but there are some great tips as well and I'll focus on those.\n",
    "\n",
    "## Takeaway 1\n",
    ">A challenge in measuring correlation is that the variables we want to compare are often not expressed in the same units. And even if they are in the same units, they come from different distributions.\n",
    "\n",
    ">There are two common solutions to these problems:\n",
    "\n",
    ">1. Transform each value to a standard scores, which is the number of standard deviations from the mean. This transform leads to the “Pearson product-moment correlation coefficient.”\n",
    "2. Transform each value to its rank, which is its index in the sorted list of values. This transform leads to the “Spearman rank correlation coefficient.”\n",
    "\n",
    "## Takeaway 2\n",
    "One idea that I was initially confused about is what is the difference between Covariance and Correlation. Obviously they are calculated different ways. There are some [great](https://en.wikipedia.org/wiki/Covariance_and_correlation) [resources](http://keydifferences.com/difference-between-covariance-and-correlation.html) our there. The big takeaway I had was correlation is normalized so scale doesnt matter.\n",
    "\n",
    "\n",
    "covariance\t${\\displaystyle \\sigma _{XY}=E[(X-\\mu _{X})\\,(Y-\\mu _{Y})]}$\n",
    "\n",
    "correlation\t${\\displaystyle \\rho _{XY}=E[(X-\\mu _{X})\\,(Y-\\mu _{Y})]/(\\sigma _{X}\\sigma _{Y})}$\n",
    "\n",
    "## Takeaway 3\n",
    "If Pearson’s correlation is near 0, it is tempting to conclude that there is no relationship between the variables, but that conclusion is not valid. Pearson’s correlation only measures linear relationships. If there's a nonlinear relationship, ρ understates its strength.\n",
    " \n",
    "![Datasets with ranges of correlations](http://greenteapress.com/thinkstats2/html/thinkstats2032.png)\n",
    "This is a great visualization to show some cases of correlation.\n",
    "\n",
    "## Takeaway 4\n",
    "Spearman’s rank correlation is similar to correlation, in-fact it is simply correlation between the rank of the samples. It is robust against outliers and pretty easy to calculate.\n",
    "\n",
    "## Takeaway 5\n",
    ">What can you do to provide evidence of causation?\n",
    "\n",
    ">1. Use time. If A comes before B, then A can cause B but not the other way around (at least according to our common understanding of causation). The order of events can help us infer the direction of causation, but it does not preclude the possibility that something else causes both A and B.\n",
    "2. Use randomness. If you divide a large sample into two groups at random and compute the means of almost any variable, you expect the difference to be small. If the groups are nearly identical in all variables but one, you can eliminate spurious relationships.\n",
    "This works even if you don’t know what the relevant variables are, but it works even better if you do, because you can check that the groups are identical.\n",
    "\n",
    "\n",
    ">A [randomized controlled trial](http://wikipedia.org/wiki/Randomized_controlled_trial). is the most reliable way to demonstrate a causal relationship, and the foundation of science-based medicine "
   ]
  },
  {
   "cell_type": "markdown",
   "metadata": {},
   "source": [
    "# Exercises\n",
    "## Exercise 1\n",
    "All the exercises are in [chap07ex.ipynb](chap07ex.ipynb)."
   ]
  }
 ],
 "metadata": {
  "kernelspec": {
   "display_name": "Python 3",
   "language": "python",
   "name": "python3"
  },
  "language_info": {
   "codemirror_mode": {
    "name": "ipython",
    "version": 3
   },
   "file_extension": ".py",
   "mimetype": "text/x-python",
   "name": "python",
   "nbconvert_exporter": "python",
   "pygments_lexer": "ipython3",
   "version": "3.6.2"
  },
  "varInspector": {
   "cols": {
    "lenName": 16.0,
    "lenType": 16.0,
    "lenVar": 40.0
   },
   "kernels_config": {
    "python": {
     "delete_cmd_postfix": "",
     "delete_cmd_prefix": "del ",
     "library": "var_list.py",
     "varRefreshCmd": "print(var_dic_list())"
    },
    "r": {
     "delete_cmd_postfix": ") ",
     "delete_cmd_prefix": "rm(",
     "library": "var_list.r",
     "varRefreshCmd": "cat(var_dic_list()) "
    }
   },
   "types_to_exclude": [
    "module",
    "function",
    "builtin_function_or_method",
    "instance",
    "_Feature"
   ],
   "window_display": false
  }
 },
 "nbformat": 4,
 "nbformat_minor": 2
}
