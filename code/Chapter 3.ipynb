{
 "cells": [
  {
   "cell_type": "markdown",
   "metadata": {},
   "source": [
    "# Review\n",
    "Chapter 3 covers Probability Mass Functions (PMFs). The author does a good job with his choice in chapter flow. He also is very good about giving you the ability to recreate visualizations!\n",
    "\n",
    "I thought the following quote sums up a good strategy:\n",
    "> Histograms and PMFs are useful while you are exploring data and trying to identify patterns and relationships. Once you have an idea what is going on, a good next step is to design a visualization that makes the patterns you have identified as clear as possible.\n",
    "\n"
   ]
  },
  {
   "cell_type": "code",
   "execution_count": 1,
   "metadata": {},
   "outputs": [
    {
     "name": "stdout",
     "output_type": "stream",
     "text": [
      "mean 23.692307692307693\n"
     ]
    },
    {
     "data": {
      "image/png": "[encoded data removed]",
      "text/plain": [
       "<matplotlib.figure.Figure at 0x200ec3ed518>"
      ]
     },
     "metadata": {},
     "output_type": "display_data"
    },
    {
     "name": "stdout",
     "output_type": "stream",
     "text": [
      "Pmf({7: 0.12307692307692308, 12: 0.12307692307692308, 17: 0.2153846153846154, 22: 0.06153846153846154, 27: 0.09230769230769231, 32: 0.18461538461538463, 37: 0.12307692307692308, 42: 0.046153846153846156, 47: 0.03076923076923077})\n"
     ]
    }
   ],
   "source": [
    "import thinkstats2\n",
    "import thinkplot\n",
    "\n",
    "d = {7: 8, 12: 8, 17: 14, 22: 4,\n",
    "     27: 6, 32: 12, 37: 8, 42: 3, 47: 2}\n",
    "\n",
    "pmf = thinkstats2.Pmf(d, label='actual')\n",
    "print('mean', pmf.Mean())\n",
    "\n",
    "\n",
    "def BiasPmf(pmf, label):\n",
    "    new_pmf = pmf.Copy(label=label)\n",
    "\n",
    "    for x, p in pmf.Items():\n",
    "        new_pmf.Mult(x, x)\n",
    "\n",
    "    new_pmf.Normalize()\n",
    "    return new_pmf\n",
    "\n",
    "\n",
    "biased_pmf = BiasPmf(pmf, label='observed')\n",
    "thinkplot.PrePlot(2)\n",
    "thinkplot.Pmfs([pmf, biased_pmf])\n",
    "thinkplot.Show(xlabel='class size', ylabel='PMF')\n",
    "\n",
    "print(pmf)"
   ]
  },
  {
   "cell_type": "markdown",
   "metadata": {},
   "source": [
    "The class size paradox was confusing to me at first. I didnt quite get what the author was getting at. One thing to remember is the obvious fact that its a chapter on PMFs which I was conflating with histograms. They are very similar, but a PMF is a normalized histogram. And arguably there is a discrete vs continuous disparity as well, but for my practices they are both discrete given I use the python ecosystem.\n",
    "\n",
    "The idea is that if you take a sample of students and ask them what thier class size was, you would get a bigger number than the actual. This is because there are more people in bigger classes.\n",
    "\n",
    "Take a simple example: two classes, 1 with 1 person and 1 with 9.\n",
    "$$Actual\\ Average\\ Class\\ size:\\frac{1 + 9}{2} = 5$$\n",
    "If you ask the population you would get 9 people saying 9 and 1 person saying 1:\n",
    "$$Poorly\\ Calculated\\ Average\\ Class\\ Size: \\frac{9*9 + 1*1}{9 + 1} = 8.2$$\n",
    "\n",
    "This would be a great way to lie with statistics... and an easy way to be confused without checking the workings of a calculation."
   ]
  },
  {
   "cell_type": "markdown",
   "metadata": {},
   "source": [
    "The rest of the chapter was a good intro to pandas indexing, which Im familiar with through the very good instruction at [DataCamp](https://www.datacamp.com/home)"
   ]
  },
  {
   "cell_type": "markdown",
   "metadata": {},
   "source": [
    "# Exercises\n",
    "## Exercise 1\n",
    "Check out the [chap03ex.ipynb](chap03ex.ipynb) with the content for this exercise."
   ]
  },
  {
   "cell_type": "markdown",
   "metadata": {},
   "source": [
    "## Exercise 2\n",
    "In Section 2.7 we computed the mean of a sample by adding up the elements and dividing by n. If you are given a PMF, you can still compute the mean, but the process is slightly different:\n",
    "$$\\bar{x} = \\sum_i p_i x_i$$\n",
    "where the xi are the unique values in the PMF and pi=PMF(xi). Similarly, you can compute variance like this:\n",
    "$$ S^2 = \\sum_{i} p_i(x_i - \\bar{x})^2$$\n",
    "Write functions called PmfMean and PmfVar that take a Pmf object and compute the mean and variance. To test these methods, check that they are consistent with the methods Mean and Var provided by Pmf."
   ]
  },
  {
   "cell_type": "code",
   "execution_count": 2,
   "metadata": {},
   "outputs": [],
   "source": [
    "def PmfMean(pmf):\n",
    "    mean = 0\n",
    "    for x, p in pmf.Items():\n",
    "        mean += x * p\n",
    "    return mean\n",
    "\n",
    "\n",
    "def PmfVar(pmf):\n",
    "    var = 0\n",
    "    mean = PmfMean(pmf)\n",
    "    for x, p in pmf.Items():\n",
    "        var += p * (x - mean)**2\n",
    "    return var"
   ]
  },
  {
   "cell_type": "code",
   "execution_count": 3,
   "metadata": {},
   "outputs": [
    {
     "name": "stdout",
     "output_type": "stream",
     "text": [
      "Function: 23.692307692307693\n",
      "Method: 23.692307692307693\n",
      "Function: 128.67455621301775\n",
      "Method: 128.67455621301775\n"
     ]
    }
   ],
   "source": [
    "d = {7: 8, 12: 8, 17: 14, 22: 4,\n",
    "     27: 6, 32: 12, 37: 8, 42: 3, 47: 2}\n",
    "\n",
    "pmf = thinkstats2.Pmf(d)\n",
    "\n",
    "print('Function: ' + str(PmfMean(pmf)))\n",
    "print('Method: ' + str(pmf.Mean()))\n",
    "\n",
    "print('Function: ' + str(PmfVar(pmf)))\n",
    "print('Method: ' + str(pmf.Var()))"
   ]
  },
  {
   "cell_type": "markdown",
   "metadata": {},
   "source": [
    "## Exercise 3\n",
    "I started with the question, “Are first babies more likely to be late?” To address it, I computed the difference in means between groups of babies, but I ignored the possibility that there might be a difference between first babies and others for the same woman.\n",
    "To address this version of the question, select respondents who have at least two babies and compute pairwise differences. Does this formulation of the question yield a different result?\n",
    "*Hint: use nsfg.MakePregMap.*\n",
    "\n",
    "---\n",
    "This was actually covered in the [chap03ex.ipynb](chap03ex.ipynb)"
   ]
  },
  {
   "cell_type": "markdown",
   "metadata": {},
   "source": [
    "## Exercise 4\n",
    "In most foot races, everyone starts at the same time. If you are a fast runner, you usually pass a lot of people at the beginning of the race, but after a few miles everyone around you is going at the same speed.\n",
    "When I ran a long-distance (209 miles) relay race for the first time, I noticed an odd phenomenon: when I overtook another runner, I was usually much faster, and when another runner overtook me, he was usually much faster.\n",
    "\n",
    "At first I thought that the distribution of speeds might be bimodal; that is, there were many slow runners and many fast runners, but few at my speed.\n",
    "\n",
    "Then I realized that I was the victim of a bias similar to the effect of class size. The race was unusual in two ways: it used a staggered start, so teams started at different times; also, many teams included runners at different levels of ability.\n",
    "\n",
    "As a result, runners were spread out along the course with little relationship between speed and location. When I joined the race, the runners near me were (pretty much) a random sample of the runners in the race.\n",
    "\n",
    "So where does the bias come from? During my time on the course, the chance of overtaking a runner, or being overtaken, is proportional to the difference in our speeds. I am more likely to catch a slow runner, and more likely to be caught by a fast runner. But runners at the same speed are unlikely to see each other.\n",
    "\n",
    "Write a function called ObservedPmf that takes a Pmf representing the actual distribution of runners’ speeds, and the speed of a running observer, and returns a new Pmf representing the distribution of runners’ speeds as seen by the observer.\n",
    "\n",
    "To test your function, you can use relay.py, which reads the results from the James Joyce Ramble 10K in Dedham MA and converts the pace of each runner to mph.\n",
    "\n",
    "Compute the distribution of speeds you would observe if you ran a relay race at 7.5 mph with this group of runners. A solution to this exercise is in relay_soln.py.\n",
    "\n",
    "---\n",
    "This was also covered in the [chap03ex.ipynb](chap03ex.ipynb)"
   ]
  },
  {
   "cell_type": "markdown",
   "metadata": {},
   "source": [
    "# Closing Comments\n",
    "I was stuck at a couple points at first, but the exercises were really good to work though. Ifeel like I have a strong conceptual understanding of how pmf's work and I really appreciated the class size paradox. I was especially excited to work though the distribution of the percieved runners speeds! That was really neat."
   ]
  }
 ],
 "metadata": {
  "kernelspec": {
   "display_name": "Python 3",
   "language": "python",
   "name": "python3"
  },
  "language_info": {
   "codemirror_mode": {
    "name": "ipython",
    "version": 3
   },
   "file_extension": ".py",
   "mimetype": "text/x-python",
   "name": "python",
   "nbconvert_exporter": "python",
   "pygments_lexer": "ipython3",
   "version": "3.6.2"
  },
  "varInspector": {
   "cols": {
    "lenName": 16,
    "lenType": 16,
    "lenVar": 40
   },
   "kernels_config": {
    "python": {
     "delete_cmd_postfix": "",
     "delete_cmd_prefix": "del ",
     "library": "var_list.py",
     "varRefreshCmd": "print(var_dic_list())"
    },
    "r": {
     "delete_cmd_postfix": ") ",
     "delete_cmd_prefix": "rm(",
     "library": "var_list.r",
     "varRefreshCmd": "cat(var_dic_list()) "
    }
   },
   "types_to_exclude": [
    "module",
    "function",
    "builtin_function_or_method",
    "instance",
    "_Feature"
   ],
   "window_display": false
  }
 },
 "nbformat": 4,
 "nbformat_minor": 2
}
