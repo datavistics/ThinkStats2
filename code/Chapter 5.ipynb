{
 "cells": [
  {
   "cell_type": "markdown",
   "metadata": {},
   "source": [
    "# Review\n",
    "\n",
    "Chapter 5 discusses modeling distributions. Before we have only encountered **empirical distributions** derived from our data. The other major type is an **analytic distribution** which is instead derived from a mathematical function.\n",
    "\n",
    "## Normal Probability Plot\n",
    "One plot that I have not yet encountered is the [Normal Probability Plot](https://en.wikipedia.org/wiki/Normal_probability_plot). Its a way to detect if a sample is approximately normal. I suspect this has its pros and cons. I'm not sure if you could tell much else from the plot if it was skewed for instance. \n",
    "\n",
    "![Normal Probability plot of birth weights](http://greenteapress.com/thinkstats2/html/thinkstats2019.png)\n",
    "\n",
    "Consider this plot, we can see that its mostly normal except for the tails. \n",
    "\n",
    "## Lognormal Distribution\n",
    "My take away for the Lognormal Distribution is that its yet another distribution that may or may not match the data. If it does happen to be a good match, then its easy to predict new data that comes in. The author uses a great example that shows that a Normal probability plot is a great way to more dramatically show whether or not the data fits the distribution (as opposed to merely looking at the CDF).\n",
    "\n",
    "## Pareto Distribution\n",
    "$$CDF(x) \\approx \\left(\\frac{x}{x_m}\\right)^{-\\alpha}$$\n",
    "Originally the Pareto distribution was to model the distribution of wealth, but since its founding it has been used in many other domains as well.\n",
    "\n",
    "---\n",
    "The author notes that some distributions can model data better at different ranges. ~~This is interesting because it allows piecewise functions for data analysis.~~ The author actually doesn't mention this, so perhaps its not such a great idea. Instead he says look for a better model or don't depend on analytical models.\n",
    "\n",
    "---\n",
    "I think this is an incredibly well put insight. It answers the question: **Why Model?**\n",
    ">Models are useful if they capture the relevant aspects of the real world and leave out unneeded details. But what is “relevant” or “unneeded” depends on what you are planning to use the model for."
   ]
  },
  {
   "cell_type": "markdown",
   "metadata": {},
   "source": [
    "## Exercises\n",
    "\n",
    "The exercises are all contained in [chap05ex.ipynb](chap05ex.ipynb)\n"
   ]
  }
 ],
 "metadata": {
  "kernelspec": {
   "display_name": "Python 3",
   "language": "python",
   "name": "python3"
  },
  "language_info": {
   "codemirror_mode": {
    "name": "ipython",
    "version": 3
   },
   "file_extension": ".py",
   "mimetype": "text/x-python",
   "name": "python",
   "nbconvert_exporter": "python",
   "pygments_lexer": "ipython3",
   "version": "3.6.2"
  },
  "varInspector": {
   "cols": {
    "lenName": 16,
    "lenType": 16,
    "lenVar": 40
   },
   "kernels_config": {
    "python": {
     "delete_cmd_postfix": "",
     "delete_cmd_prefix": "del ",
     "library": "var_list.py",
     "varRefreshCmd": "print(var_dic_list())"
    },
    "r": {
     "delete_cmd_postfix": ") ",
     "delete_cmd_prefix": "rm(",
     "library": "var_list.r",
     "varRefreshCmd": "cat(var_dic_list()) "
    }
   },
   "types_to_exclude": [
    "module",
    "function",
    "builtin_function_or_method",
    "instance",
    "_Feature"
   ],
   "window_display": false
  }
 },
 "nbformat": 4,
 "nbformat_minor": 2
}
